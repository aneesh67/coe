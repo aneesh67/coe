{
 "cells": [
  {
   "cell_type": "code",
   "execution_count": 25,
   "id": "fbfae8e0-474c-4e54-b1a9-e7b121c08c22",
   "metadata": {},
   "outputs": [
    {
     "name": "stdout",
     "output_type": "stream",
     "text": [
      "Intercept: 16600.00000000006\n",
      "Coefficients: [192.]\n",
      "Mean Squared Error: 475400000.0\n",
      "R-squared: 0.23936000000000002\n",
      "Predicted Price for new house: 304600.0\n"
     ]
    },
    {
     "name": "stderr",
     "output_type": "stream",
     "text": [
      "C:\\Users\\vully\\anaconda3\\Lib\\site-packages\\sklearn\\base.py:493: UserWarning: X does not have valid feature names, but LinearRegression was fitted with feature names\n",
      "  warnings.warn(\n"
     ]
    }
   ],
   "source": [
    "import numpy as np\n",
    "import pandas as pd\n",
    "from sklearn.model_selection import train_test_split\n",
    "from sklearn.linear_model import LinearRegression\n",
    "from sklearn.metrics import mean_squared_error, r2_score\n",
    " \n",
    "# Create a simple dataset\n",
    "data = {\n",
    "    'Size': [1500, 1600, 1700, 1800, 1900, 2000, 2100, 2200],\n",
    "    'Bedrooms': [3, 3, 3, 4, 4, 4, 5, 5],\n",
    "    'Age': [10, 15, 10, 20, 30, 15, 20, 25],\n",
    "    'Price': [300000, 320000, 340000, 360000, 400000, 370000, 420000, 430000]\n",
    "}\n",
    " \n",
    "# Convert to DataFrame\n",
    "df = pd.DataFrame(data)\n",
    " \n",
    "# Define independent variables (features) and dependent variable (target)\n",
    "# X = df[['Size', 'Bedrooms', 'Age']]  #  3 Independent variables\n",
    "# y = df['Price']  # Dependent variable\n",
    " \n",
    "# X = df[['Size', 'Bedrooms']]  #  2 Independent variables\n",
    "# y = df['Price']  # Dependent variable\n",
    " \n",
    "X = df[['Size']]  #  1 Independent variables\n",
    "y = df['Price']  # Dependent variable\n",
    " \n",
    "# Split the data into training and testing sets\n",
    "X_train, X_test, y_train, y_test = train_test_split(X, y, test_size=0.2, random_state=42)\n",
    " \n",
    "# Create a linear regression model\n",
    "model = LinearRegression()\n",
    " \n",
    "# Train the model\n",
    "model.fit(X_train, y_train)\n",
    " \n",
    "# Make predictions on the test set\n",
    "y_pred = model.predict(X_test)\n",
    " \n",
    "# Coefficients and intercept\n",
    "print(\"Intercept:\", model.intercept_)\n",
    "print(\"Coefficients:\", model.coef_)\n",
    " \n",
    "# Evaluate the model\n",
    "mse = mean_squared_error(y_test, y_pred)\n",
    "r2 = r2_score(y_test, y_pred)\n",
    " \n",
    "print(\"Mean Squared Error:\", mse)\n",
    "print(\"R-squared:\", r2)\n",
    " \n",
    " \n",
    "new_house = np.array([[1500]])\n",
    "predicted_price = model.predict(new_house)\n",
    "print(f\"Predicted Price for new house: {predicted_price[0]}\")"
   ]
  },
  {
   "cell_type": "code",
   "execution_count": 31,
   "id": "80d92d18-b72f-468b-a0f2-c145ad1ce2d5",
   "metadata": {},
   "outputs": [
    {
     "name": "stdout",
     "output_type": "stream",
     "text": [
      "                            OLS Regression Results                            \n",
      "==============================================================================\n",
      "Dep. Variable:                Alcohol   R-squared:                       0.594\n",
      "Model:                            OLS   Adj. R-squared:                  0.564\n",
      "Method:                 Least Squares   F-statistic:                     20.08\n",
      "Date:                Sat, 01 Mar 2025   Prob (F-statistic):           1.61e-26\n",
      "Time:                        14:31:18   Log-Likelihood:                -134.83\n",
      "No. Observations:                 178   AIC:                             295.7\n",
      "Df Residuals:                     165   BIC:                             337.0\n",
      "Df Model:                          12                                         \n",
      "Covariance Type:            nonrobust                                         \n",
      "========================================================================================\n",
      "                           coef    std err          t      P>|t|      [0.025      0.975]\n",
      "----------------------------------------------------------------------------------------\n",
      "const                   11.0718      0.596     18.567      0.000       9.894      12.249\n",
      "Malic.acid               0.1316      0.045      2.907      0.004       0.042       0.221\n",
      "Ash                      0.1379      0.217      0.636      0.526      -0.290       0.566\n",
      "Acl                     -0.0378      0.018     -2.122      0.035      -0.073      -0.003\n",
      "Mg                    4.179e-06      0.003      0.001      0.999      -0.007       0.007\n",
      "Phenols                  0.0521      0.134      0.389      0.698      -0.212       0.317\n",
      "Flavanoids               0.0091      0.107      0.085      0.932      -0.202       0.220\n",
      "Nonflavanoid.phenols    -0.2078      0.434     -0.479      0.632      -1.064       0.648\n",
      "Proanth                 -0.1525      0.098     -1.552      0.122      -0.346       0.041\n",
      "Color.int                0.1630      0.027      5.941      0.000       0.109       0.217\n",
      "Hue                      0.2169      0.281      0.772      0.441      -0.338       0.772\n",
      "OD                       0.1608      0.110      1.466      0.145      -0.056       0.377\n",
      "Proline                  0.0010      0.000      5.081      0.000       0.001       0.001\n",
      "==============================================================================\n",
      "Omnibus:                        0.348   Durbin-Watson:                   1.998\n",
      "Prob(Omnibus):                  0.840   Jarque-Bera (JB):                0.121\n",
      "Skew:                           0.025   Prob(JB):                        0.941\n",
      "Kurtosis:                       3.118   Cond. No.                     1.27e+04\n",
      "==============================================================================\n",
      "\n",
      "Notes:\n",
      "[1] Standard Errors assume that the covariance matrix of the errors is correctly specified.\n",
      "[2] The condition number is large, 1.27e+04. This might indicate that there are\n",
      "strong multicollinearity or other numerical problems.\n"
     ]
    }
   ],
   "source": [
    "import pandas as pd\n",
    "import statsmodels.api as sm\n",
    "\n",
    "# Load the dataset (replace 'your_file.csv' with actual filename)\n",
    "df = pd.read_csv('wine.csv')\n",
    "\n",
    "# Define independent variables (X) and dependent variable (y)\n",
    "X = df.drop(columns=[\"Alcohol\", \"Wine\"])  # Exclude 'Alcohol' (target) and 'Wine' (categorical identifier)\n",
    "X = sm.add_constant(X)  # Add intercept term\n",
    "y = df[\"Alcohol\"]  # Target variable\n",
    "\n",
    "# Fit the multiple regression model\n",
    "model = sm.OLS(y, X).fit()\n",
    "\n",
    "# Print the summary of regression results\n",
    "print(model.summary())\n"
   ]
  },
  {
   "cell_type": "code",
   "execution_count": 39,
   "id": "12e5500c-b334-4090-bf1c-1e241eabbed1",
   "metadata": {},
   "outputs": [
    {
     "name": "stdout",
     "output_type": "stream",
     "text": [
      "Intercept: 1.0291948631470924\n",
      "Coefficients: [-0.10527132  0.00174939]\n",
      "Mean Squared Error: 0.04400173931602884\n",
      "R-squared: -0.042626614478403324\n",
      "Predicted Hue for new wine: 0.940955123167712\n"
     ]
    },
    {
     "name": "stderr",
     "output_type": "stream",
     "text": [
      "C:\\Users\\vully\\anaconda3\\Lib\\site-packages\\sklearn\\base.py:493: UserWarning: X does not have valid feature names, but LinearRegression was fitted with feature names\n",
      "  warnings.warn(\n"
     ]
    }
   ],
   "source": [
    "import pandas as pd\n",
    "import numpy as np  # Added numpy import\n",
    "from sklearn.model_selection import train_test_split\n",
    "from sklearn.linear_model import LinearRegression\n",
    "from sklearn.metrics import r2_score, mean_squared_error  # Added missing import\n",
    "\n",
    "# Load wine dataset\n",
    "df = pd.read_csv('wine.csv')\n",
    "X = df[['Ash','Mg']]  #  2 Independent variables\n",
    "y = df['Hue']  # Dependent variable\n",
    " \n",
    "# Split the data into training and testing sets\n",
    "X_train, X_test, y_train, y_test = train_test_split(X, y, test_size=0.2, random_state=42)\n",
    " \n",
    "# Create a linear regression model\n",
    "model = LinearRegression()\n",
    " \n",
    "# Train the model\n",
    "model.fit(X_train, y_train)\n",
    " \n",
    "# Make predictions on the test set\n",
    "y_pred = model.predict(X_test)\n",
    " \n",
    "# Coefficients and intercept\n",
    "print(\"Intercept:\", model.intercept_)\n",
    "print(\"Coefficients:\", model.coef_)\n",
    " \n",
    "# Evaluate the model\n",
    "mse = mean_squared_error(y_test, y_pred)\n",
    "r2 = r2_score(y_test, y_pred)\n",
    " \n",
    "print(\"Mean Squared Error:\", mse)\n",
    "print(\"R-squared:\", r2)\n",
    " \n",
    "# Fixed: Corrected variable name and proper shape for 2 features\n",
    "new_wine = np.array([[2.5, 100]])  # Shape is now (1, 2) for 1 sample with 2 features\n",
    "predicted_hue = model.predict(new_wine)  # Changed variable name to be more descriptive\n",
    "print(f\"Predicted Hue for new wine: {predicted_hue[0]}\")"
   ]
  },
  {
   "cell_type": "code",
   "execution_count": null,
   "id": "a769915d-7f55-4f74-a1df-5e3f0143dc2c",
   "metadata": {},
   "outputs": [],
   "source": []
  }
 ],
 "metadata": {
  "kernelspec": {
   "display_name": "Python [conda env:base] *",
   "language": "python",
   "name": "conda-base-py"
  },
  "language_info": {
   "codemirror_mode": {
    "name": "ipython",
    "version": 3
   },
   "file_extension": ".py",
   "mimetype": "text/x-python",
   "name": "python",
   "nbconvert_exporter": "python",
   "pygments_lexer": "ipython3",
   "version": "3.12.7"
  }
 },
 "nbformat": 4,
 "nbformat_minor": 5
}
